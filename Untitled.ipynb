{
 "cells": [
  {
   "cell_type": "code",
   "execution_count": 1,
   "id": "e9636c8d",
   "metadata": {},
   "outputs": [],
   "source": [
    "import numpy as np\n",
    "import math\n",
    "import time\n",
    "import pandas as pd\n",
    "import matplotlib.pyplot as plt"
   ]
  },
  {
   "cell_type": "code",
   "execution_count": 2,
   "id": "5f84a2b8",
   "metadata": {},
   "outputs": [],
   "source": [
    "xmin = -5.12\n",
    "xmax = 5.12\n",
    "dim = 10\n",
    "pres = 3\n",
    "longitud = int(math.log2((xmax - xmin) * (10**pres)) + 0.9)\n",
    "prob_mut = 0.01\n",
    "prob_cruza = 0.8\n",
    "pobsize = 250\n",
    "num_generaciones = 3000\n",
    "dim_disc = dim * longitud"
   ]
  },
  {
   "cell_type": "code",
   "execution_count": 3,
   "id": "1669e961",
   "metadata": {},
   "outputs": [],
   "source": [
    "def bin2dec(bin_str):\n",
    "    return int(''.join(str(x) for x in bin_str), 2)"
   ]
  },
  {
   "cell_type": "code",
   "execution_count": 4,
   "id": "6ee058d4",
   "metadata": {},
   "outputs": [],
   "source": [
    "def vbin2vdec(vbin, bits_per_var=longitud, num_vars=dim, vmin=xmin, vmax=xmax):\n",
    "    vdec = []\n",
    "    max_dec = 2**bits_per_var - 1\n",
    "    for i in range(num_vars):\n",
    "        bin_segment = vbin[i * bits_per_var:(i + 1) * bits_per_var]\n",
    "        dec = bin2dec(bin_segment)\n",
    "        scaled_val = vmin + ((vmax - vmin) / max_dec) * dec\n",
    "        vdec.append(scaled_val)\n",
    "    return vdec"
   ]
  },
  {
   "cell_type": "code",
   "execution_count": 5,
   "id": "ce74db07",
   "metadata": {},
   "outputs": [],
   "source": [
    "def aptitud(vbin):\n",
    "    vdec = np.array(vbin2vdec(vbin))\n",
    "    suma = np.sum(vdec**2 - 10 * np.cos(2 * np.pi * vdec))\n",
    "    resultado = 10 * dim + suma\n",
    "    return resultado"
   ]
  },
  {
   "cell_type": "code",
   "execution_count": 6,
   "id": "25ec5956",
   "metadata": {},
   "outputs": [],
   "source": [
    "def evaluar_aptitud(individuos):\n",
    "    return [aptitud(ind) for ind in individuos]"
   ]
  },
  {
   "cell_type": "code",
   "execution_count": 7,
   "id": "8a420930",
   "metadata": {},
   "outputs": [],
   "source": [
    "def generate_pob(pobsize):\n",
    "    pob = []\n",
    "    for _ in range(pobsize):\n",
    "        vector = np.random.randint(0, 2, size=dim_disc)\n",
    "        pob.append(vector)\n",
    "    return pob"
   ]
  },
  {
   "cell_type": "code",
   "execution_count": 8,
   "id": "79e80fce",
   "metadata": {},
   "outputs": [],
   "source": [
    "def crossover_uniforme(v1, v2, prob_cruza):\n",
    "    if np.random.rand() < prob_cruza:\n",
    "        mascara = np.random.randint(0, 2, size=len(v1)).astype(bool)\n",
    "        inversa_mascara = np.logical_not(mascara)\n",
    "        h1 = np.where(mascara, v1, v2)\n",
    "        h2 = np.where(mascara, v2, v1)\n",
    "    else:\n",
    "        h1 = v1\n",
    "        h2 = v2\n",
    "    return h1, h2"
   ]
  },
  {
   "cell_type": "code",
   "execution_count": 9,
   "id": "f36819d8",
   "metadata": {},
   "outputs": [],
   "source": [
    "def mutacion_uniforme_binaria(vector, prob_mut):\n",
    "    mascara = np.random.random(size=len(vector)) < prob_mut\n",
    "    vector[mascara] = 1 - vector[mascara]\n",
    "    return vector"
   ]
  },
  {
   "cell_type": "code",
   "execution_count": 10,
   "id": "d4d9dff6",
   "metadata": {},
   "outputs": [],
   "source": [
    "def seleccion_universal_estocastica(poblacion, aptitudes):\n",
    "    # Calcular el valor esperado de cada individuo\n",
    "    aptitud_total = sum(aptitudes)\n",
    "    valores_esperados = [len(poblacion) * (a / aptitud_total) for a in aptitudes]\n",
    "\n",
    "    # Determinar el número de puntos de selección igual al tamaño de la población\n",
    "    num_puntos = len(poblacion)\n",
    "    puntos_seleccion = np.linspace(0, num_puntos, num_puntos, endpoint=False)\n",
    "    punto_inicio = np.random.uniform(0, 1)\n",
    "    puntos_seleccion += punto_inicio\n",
    "    puntos_seleccion %= num_puntos  \n",
    "\n",
    "    padres = []\n",
    "    indice_actual = 0\n",
    "    suma_acumulada = valores_esperados[indice_actual]\n",
    "    for punto in puntos_seleccion:\n",
    "        while suma_acumulada < punto:\n",
    "            indice_actual += 1\n",
    "            suma_acumulada += valores_esperados[indice_actual]\n",
    "        padres.append(poblacion[indice_actual])\n",
    "    return padres"
   ]
  },
  {
   "cell_type": "code",
   "execution_count": 11,
   "id": "076d92bf",
   "metadata": {},
   "outputs": [],
   "source": [
    "# resultados = {}\n",
    "# graficas = {}\n",
    "# for j in range(30):\n",
    "#     start_time = time.time()\n",
    "#     resultado=[]\n",
    "#     poblacion = generate_pob(pobsize)\n",
    "#     for gen in range(num_generaciones):\n",
    "#         aptitudes = evaluar_aptitud(poblacion)\n",
    "#         poblacion = sorted(poblacion, key=aptitud)  # Ordenar por aptitud\n",
    "\n",
    "#         padres = seleccion_universal_estocastica(poblacion, aptitudes)\n",
    "#         num_padres = len(padres)\n",
    "\n",
    "\n",
    "#         for i in range(0, num_padres, 2):\n",
    "#             padre1 = padres[i]\n",
    "#             padre2 = padres[i + 1]\n",
    "#             hijo1, hijo2 = crossover_uniforme(padre1, padre2, prob_cruza)\n",
    "#             hijo1 = mutacion_uniforme_binaria(hijo1, prob_mut)\n",
    "#             hijo2 = mutacion_uniforme_binaria(hijo2, prob_mut)\n",
    "#             poblacion.extend([hijo1, hijo2])\n",
    "\n",
    "#         poblacion = sorted(poblacion, key=aptitud)[:pobsize]  # Ordenar y reducir a pobsize\n",
    "#         mejor_aptitud = aptitud(poblacion[0])\n",
    "#         resultado.append(mejor_aptitud)\n",
    "        \n",
    "#         #print(f\"Generación {gen}, Mejor aptitud: {mejor_aptitud}\")\n",
    "#     graficas[j] = resultado\n",
    "\n",
    "#     end_time = time.time()\n",
    "#     elapsed_time = end_time - start_time\n",
    "#     resultados[j] = poblacion\n",
    "#     print(f\"el mejor individuo es {vbin2vdec(poblacion[0])} con aptitud {aptitud(poblacion[0])}\\n\")\n",
    "#     print(f\"El tiempo de ejecución en {j} es: {elapsed_time} segundos\")\n",
    "\n"
   ]
  },
  {
   "cell_type": "code",
   "execution_count": 12,
   "id": "a0f85a3b",
   "metadata": {},
   "outputs": [
    {
     "name": "stdout",
     "output_type": "stream",
     "text": [
      "El mejor individuo es [0.00031251907465090767, 0.00031251907465090767, 0.00031251907465090767, 0.00031251907465090767, -0.0003125190746500195, 0.00031251907465090767, 0.00031251907465090767, -0.9597460782518459, -0.0003125190746500195, 0.00031251907465090767] con aptitud 1.2394353297450493\n",
      "\n",
      "El tiempo de ejecución en 0 es: 290.59493613243103 segundos\n",
      "El mejor individuo es [-0.0003125190746500195, -0.0003125190746500195, 0.00031251907465090767, 0.00031251907465090767, 0.00031251907465090767, -0.9597460782518459, -0.0003125190746500195, 0.00031251907465090767, 0.00031251907465090767, -0.0003125190746500195] con aptitud 1.2394353297450493\n",
      "\n",
      "El tiempo de ejecución en 1 es: 295.5738322734833 segundos\n",
      "El mejor individuo es [0.00031251907465090767, 0.00031251907465090767, -0.9597460782518459, -0.9597460782518459, 0.00031251907465090767, 0.00031251907465090767, 0.00031251907465090767, 0.00031251907465090767, -0.0003125190746500195, -0.9597460782518459] con aptitud 3.717918457507409\n",
      "\n",
      "El tiempo de ejecución en 2 es: 311.3704068660736 segundos\n",
      "El mejor individuo es [-0.0003125190746500195, 0.00031251907465090767, 0.9597460782518468, -0.0003125190746500195, 0.9597460782518468, 0.00031251907465090767, 0.00031251907465090767, -0.0003125190746500195, 0.00031251907465090767, 0.00031251907465090767] con aptitud 2.4786768936261865\n",
      "\n",
      "El tiempo de ejecución en 3 es: 318.2492697238922 segundos\n",
      "El mejor individuo es [-0.9597460782518459, 0.00031251907465090767, -0.0003125190746500195, -0.0003125190746500195, -0.0003125190746500195, 0.00031251907465090767, -0.0003125190746500195, -0.0003125190746500195, 0.00031251907465090767, 0.00031251907465090767] con aptitud 1.2394353297450493\n",
      "\n",
      "El tiempo de ejecución en 4 es: 319.816841840744 segundos\n",
      "El mejor individuo es [-0.0003125190746500195, -0.0003125190746500195, 0.00031251907465090767, 0.9597460782518468, 0.00031251907465090767, -0.0003125190746500195, 0.00031251907465090767, -0.0003125190746500195, -0.0003125190746500195, 0.00031251907465090767] con aptitud 1.239435329745021\n",
      "\n",
      "El tiempo de ejecución en 5 es: 315.98487663269043 segundos\n",
      "El mejor individuo es [-0.0003125190746500195, 0.00031251907465090767, -0.0003125190746500195, -0.0003125190746500195, -0.0003125190746500195, 0.00031251907465090767, 0.00031251907465090767, -0.0003125190746500195, -0.9597460782518459, 0.00031251907465090767] con aptitud 1.2394353297450493\n",
      "\n",
      "El tiempo de ejecución en 6 es: 313.4903724193573 segundos\n",
      "El mejor individuo es [0.00031251907465090767, 0.9597460782518468, -0.0003125190746500195, -0.9597460782518459, 0.00031251907465090767, -0.0003125190746500195, -0.0003125190746500195, -0.0003125190746500195, 0.00031251907465090767, -0.0003125190746500195] con aptitud 2.478676893626215\n",
      "\n",
      "El tiempo de ejecución en 7 es: 311.9957036972046 segundos\n",
      "El mejor individuo es [-0.0003125190746500195, -0.9597460782518459, 0.00031251907465090767, -0.0003125190746500195, -0.9597460782518459, 0.00031251907465090767, -0.0003125190746500195, 0.00031251907465090767, 0.00031251907465090767, -0.0003125190746500195] con aptitud 2.478676893626215\n",
      "\n",
      "El tiempo de ejecución en 8 es: 302.8869411945343 segundos\n",
      "El mejor individuo es [0.9597460782518468, 0.9597460782518468, -0.9597460782518459, -0.0003125190746500195, 0.9597460782518468, -0.0003125190746500195, 0.00031251907465090767, -0.0003125190746500195, 0.00031251907465090767, -0.9597460782518459] con aptitud 6.19640158526974\n",
      "\n",
      "El tiempo de ejecución en 9 es: 304.1672468185425 segundos\n",
      "El mejor individuo es [0.00031251907465090767, -0.0003125190746500195, 0.00031251907465090767, 0.9597460782518468, 0.00031251907465090767, -0.0003125190746500195, -1.9198046755783431, 0.9597460782518468, -0.0003125190746500195, -0.0003125190746500195] con aptitud 7.407159674711977\n",
      "\n",
      "El tiempo de ejecución en 10 es: 303.75758028030396 segundos\n",
      "El mejor individuo es [-0.0003125190746500195, -0.0003125190746500195, 0.00031251907465090767, 0.00031251907465090767, -0.0003125190746500195, -0.0003125190746500195, -0.0003125190746500195, -0.0003125190746500195, -0.0003125190746500195, 0.00031251907465090767] con aptitud 0.000193765863855333\n",
      "\n",
      "El tiempo de ejecución en 11 es: 292.9560492038727 segundos\n",
      "El mejor individuo es [-0.0003125190746500195, 0.00031251907465090767, 0.00031251907465090767, 0.00031251907465090767, -0.0003125190746500195, -0.0003125190746500195, 0.00031251907465090767, -0.0003125190746500195, -0.0003125190746500195, -0.0003125190746500195] con aptitud 0.000193765863855333\n",
      "\n",
      "El tiempo de ejecución en 12 es: 295.44407415390015 segundos\n",
      "El mejor individuo es [0.00031251907465090767, -0.0003125190746500195, 0.00031251907465090767, -0.0003125190746500195, 0.00031251907465090767, -0.9597460782518459, -0.0003125190746500195, 0.00031251907465090767, 0.00031251907465090767, 0.00031251907465090767] con aptitud 1.2394353297450493\n",
      "\n",
      "El tiempo de ejecución en 13 es: 286.05933237075806 segundos\n",
      "El mejor individuo es [-0.0003125190746500195, 0.00031251907465090767, 0.00031251907465090767, -0.9597460782518459, -0.0003125190746500195, 0.00031251907465090767, -0.0003125190746500195, -0.0003125190746500195, -0.0003125190746500195, 0.00031251907465090767] con aptitud 1.2394353297450493\n",
      "\n",
      "El tiempo de ejecución en 14 es: 286.150098323822 segundos\n",
      "El mejor individuo es [0.00031251907465090767, -0.0003125190746500195, -0.0003125190746500195, -0.9597460782518459, -0.9597460782518459, -0.0003125190746500195, 0.9597460782518468, -0.0003125190746500195, -0.0003125190746500195, -0.0003125190746500195] con aptitud 3.7179184575073805\n",
      "\n",
      "El tiempo de ejecución en 15 es: 289.1263225078583 segundos\n",
      "El mejor individuo es [0.00031251907465090767, 0.00031251907465090767, -0.9597460782518459, 1.9198046755783436, 0.00031251907465090767, 0.00031251907465090767, -0.0003125190746500195, -0.0003125190746500195, -0.0003125190746500195, 0.00031251907465090767] con aptitud 6.167918110830811\n",
      "\n",
      "El tiempo de ejecución en 16 es: 292.42078256607056 segundos\n",
      "El mejor individuo es [0.9597460782518468, -0.9597460782518459, 0.9597460782518468, 0.00031251907465090767, 0.00031251907465090767, -0.0003125190746500195, -0.0003125190746500195, -0.0003125190746500195, 0.00031251907465090767, 0.00031251907465090767] con aptitud 3.7179184575073805\n",
      "\n",
      "El tiempo de ejecución en 17 es: 297.3214433193207 segundos\n",
      "El mejor individuo es [-0.9597460782518459, -0.9597460782518459, -0.9597460782518459, -0.0003125190746500195, -0.9597460782518459, 0.9597460782518468, 0.00031251907465090767, 0.00031251907465090767, -0.0003125190746500195, 0.9597460782518468] con aptitud 7.43564314915092\n",
      "\n",
      "El tiempo de ejecución en 18 es: 297.27678179740906 segundos\n",
      "El mejor individuo es [0.9597460782518468, -0.9597460782518459, -0.0003125190746500195, -0.0003125190746500195, -0.9597460782518459, 0.00031251907465090767, -0.9597460782518459, 0.00031251907465090767, 0.9597460782518468, -0.0003125190746500195] con aptitud 6.1964015852697685\n",
      "\n",
      "El tiempo de ejecución en 19 es: 299.27459502220154 segundos\n",
      "El mejor individuo es [1.9198046755783436, 0.9597460782518468, -0.9597460782518459, -0.0003125190746500195, -0.0003125190746500195, -0.9597460782518459, 0.00031251907465090767, -0.0003125190746500195, 0.00031251907465090767, -0.0003125190746500195] con aptitud 8.646401238593171\n",
      "\n",
      "El tiempo de ejecución en 20 es: 300.95769691467285 segundos\n",
      "El mejor individuo es [-0.9597460782518459, -0.0003125190746500195, -0.0003125190746500195, -0.0003125190746500195, 0.00031251907465090767, -0.0003125190746500195, -0.0003125190746500195, -0.0003125190746500195, -0.9597460782518459, 0.00031251907465090767] con aptitud 2.4786768936262433\n",
      "\n",
      "El tiempo de ejecución en 21 es: 300.9688639640808 segundos\n",
      "El mejor individuo es [-0.0003125190746500195, 0.00031251907465090767, 0.00031251907465090767, -0.0003125190746500195, 0.00031251907465090767, 0.00031251907465090767, 0.00031251907465090767, -0.0003125190746500195, -0.0003125190746500195, -0.0003125190746500195] con aptitud 0.000193765863855333\n",
      "\n",
      "El tiempo de ejecución en 22 es: 305.27180552482605 segundos\n",
      "El mejor individuo es [0.00031251907465090767, -1.9198046755783431, 0.00031251907465090767, -0.0003125190746500195, 0.00031251907465090767, -0.0003125190746500195, -0.0003125190746500195, -0.9597460782518459, 0.9597460782518468, -0.0003125190746500195] con aptitud 7.407159674712005\n",
      "\n",
      "El tiempo de ejecución en 23 es: 310.9039294719696 segundos\n"
     ]
    },
    {
     "name": "stdout",
     "output_type": "stream",
     "text": [
      "El mejor individuo es [0.00031251907465090767, -0.0003125190746500195, -0.0003125190746500195, -0.0003125190746500195, -0.0003125190746500195, 1.9198046755783436, 0.00031251907465090767, -0.9597460782518459, -0.0003125190746500195, -0.0003125190746500195] con aptitud 6.167918110830811\n",
      "\n",
      "El tiempo de ejecución en 24 es: 306.8252155780792 segundos\n",
      "El mejor individuo es [0.00031251907465090767, 0.00031251907465090767, 0.00031251907465090767, -0.0003125190746500195, 0.00031251907465090767, -0.0003125190746500195, -0.0003125190746500195, 0.00031251907465090767, 0.9597460782518468, -0.0003125190746500195] con aptitud 1.2394353297450493\n",
      "\n",
      "El tiempo de ejecución en 25 es: 305.143235206604 segundos\n",
      "El mejor individuo es [-0.0003125190746500195, -0.9597460782518459, -0.0003125190746500195, -0.0003125190746500195, 0.00031251907465090767, 0.00031251907465090767, -0.0003125190746500195, 0.9597460782518468, -0.9597460782518459, 0.00031251907465090767] con aptitud 3.717918457507409\n",
      "\n",
      "El tiempo de ejecución en 26 es: 303.429527759552 segundos\n",
      "El mejor individuo es [-0.0003125190746500195, 0.9597460782518468, 0.00031251907465090767, 0.00031251907465090767, -0.0003125190746500195, 0.00031251907465090767, 0.00031251907465090767, 0.00031251907465090767, 0.00031251907465090767, -0.9597460782518459] con aptitud 2.478676893626215\n",
      "\n",
      "El tiempo de ejecución en 27 es: 306.0123760700226 segundos\n",
      "El mejor individuo es [0.9597460782518468, -0.0003125190746500195, 0.0028126716718555045, 0.0028126716718555045, 0.00031251907465090767, 0.00031251907465090767, -0.002187633522553689, -0.005312824269059213, 0.0021876335225545773, -0.0003125190746500195] con aptitud 1.2499755677472422\n",
      "\n",
      "El tiempo de ejecución en 28 es: 303.6265776157379 segundos\n",
      "El mejor individuo es [-0.0003125190746500195, 0.00031251907465090767, 0.00031251907465090767, 0.00031251907465090767, -0.9597460782518459, -0.9597460782518459, -0.9597460782518459, 0.00031251907465090767, 0.00031251907465090767, 0.9597460782518468] con aptitud 4.957160021388589\n",
      "\n",
      "El tiempo de ejecución en 29 es: 304.24209928512573 segundos\n"
     ]
    }
   ],
   "source": [
    "import pandas as pd\n",
    "import time\n",
    "\n",
    "# Asumimos que las siguientes funciones están definidas:\n",
    "# generate_pob, evaluar_aptitud, aptitud, seleccion_universal_estocastica, crossover_uniforme, mutacion_uniforme_binaria, vbin2vdec\n",
    "\n",
    "resultados = {}\n",
    "graficas = {}\n",
    "mejores_vectores = []\n",
    "mejores_aptitudes = []\n",
    "\n",
    "for j in range(30):\n",
    "    start_time = time.time()\n",
    "    resultado = []\n",
    "    poblacion = generate_pob(pobsize)\n",
    "    \n",
    "    for gen in range(num_generaciones):\n",
    "        aptitudes = evaluar_aptitud(poblacion)\n",
    "        poblacion = sorted(poblacion, key=aptitud)  # Ordenar por aptitud\n",
    "\n",
    "        padres = seleccion_universal_estocastica(poblacion, aptitudes)\n",
    "        num_padres = len(padres)\n",
    "\n",
    "        for i in range(0, num_padres, 2):\n",
    "            padre1 = padres[i]\n",
    "            padre2 = padres[i + 1]\n",
    "            hijo1, hijo2 = crossover_uniforme(padre1, padre2, prob_cruza)\n",
    "            hijo1 = mutacion_uniforme_binaria(hijo1, prob_mut)\n",
    "            hijo2 = mutacion_uniforme_binaria(hijo2, prob_mut)\n",
    "            poblacion.extend([hijo1, hijo2])\n",
    "\n",
    "        poblacion = sorted(poblacion, key=aptitud)[:pobsize]  # Ordenar y reducir a pobsize\n",
    "        mejor_aptitud = aptitud(poblacion[0])\n",
    "        resultado.append(mejor_aptitud)\n",
    "\n",
    "    graficas[j] = resultado\n",
    "\n",
    "    end_time = time.time()\n",
    "    elapsed_time = end_time - start_time\n",
    "    resultados[j] = poblacion\n",
    "    mejor_vector = vbin2vdec(poblacion[0])\n",
    "    mejores_vectores.append(mejor_vector)\n",
    "    mejores_aptitudes.append(mejor_aptitud)\n",
    "    print(f\"El mejor individuo es {mejor_vector} con aptitud {mejor_aptitud}\\n\")\n",
    "    print(f\"El tiempo de ejecución en {j} es: {elapsed_time} segundos\")\n",
    "\n",
    "# Crear un DataFrame con los resultados\n",
    "df_resultados = pd.DataFrame(mejores_vectores)\n",
    "df_resultados['Aptitud'] = mejores_aptitudes\n",
    "\n",
    "# Opcional: Guardar el DataFrame a un archivo CSV\n",
    "df_resultados.to_csv('resultados_geneticos.csv', index=False)\n",
    "\n",
    "\n"
   ]
  },
  {
   "cell_type": "code",
   "execution_count": 13,
   "id": "29088d89",
   "metadata": {},
   "outputs": [],
   "source": [
    "df_resultados = df_resultados.sort_values(by='Aptitud')"
   ]
  },
  {
   "cell_type": "code",
   "execution_count": 25,
   "id": "d7e3e032",
   "metadata": {},
   "outputs": [],
   "source": [
    "\n",
    "df_resultados.to_csv('binario_2_ejecuciones.csv', index=True, index_label='mi_indice')"
   ]
  },
  {
   "cell_type": "code",
   "execution_count": 16,
   "id": "2c12a0e8",
   "metadata": {},
   "outputs": [
    {
     "data": {
      "image/png": "[encoded data removed]",
      "text/plain": [
       "<Figure size 720x360 with 1 Axes>"
      ]
     },
     "metadata": {
      "needs_background": "light"
     },
     "output_type": "display_data"
    }
   ],
   "source": [
    "plt.figure(figsize=(10, 5))  # Crea una figura con un tamaño específico\n",
    "plt.plot(graficas[27],  linestyle='-', color='b')\n",
    "plt.title('Gráfico de convergencia')  \n",
    "plt.xlabel('generación')  \n",
    "plt.ylabel('mejor aptitud')  \n",
    "plt.grid(True)\n",
    "\n",
    "plt.show()"
   ]
  },
  {
   "cell_type": "code",
   "execution_count": 17,
   "id": "e54cba76",
   "metadata": {},
   "outputs": [],
   "source": [
    "import csv\n",
    "\n",
    "# Inicializa una lista vacía para almacenar los datos\n",
    "mediana_undx = []\n",
    "\n",
    "# Abre el archivo CSV\n",
    "with open('mediana_undx_2.csv', newline='', encoding='utf-8') as csvfile:\n",
    "    # Crea un lector de CSV\n",
    "    csvreader = csv.reader(csvfile)\n",
    "    \n",
    "    # Itera sobre las filas en el archivo CSV\n",
    "    for row in csvreader:\n",
    "        # Convierte cada fila en una lista de enteros\n",
    "        mediana_undx.append([(item) for item in row])\n",
    "\n",
    "mediana_undx = mediana_undx[0]\n",
    "mediana_undx = [float(value) for value in mediana_undx]"
   ]
  },
  {
   "cell_type": "code",
   "execution_count": 22,
   "id": "221d84b9",
   "metadata": {},
   "outputs": [
    {
     "data": {
      "image/png": "[encoded data removed]",
      "text/plain": [
       "<Figure size 720x360 with 1 Axes>"
      ]
     },
     "metadata": {
      "needs_background": "light"
     },
     "output_type": "display_data"
    }
   ],
   "source": [
    "plt.figure(figsize=(10, 5))  # Crea una figura con un tamaño específico\n",
    "plt.plot(graficas[27],  linestyle='-', color='b', label=\"Representación binaria\")\n",
    "plt.plot(mediana_undx,  linestyle='-', color='r', label = \"Representación Real\")\n",
    "plt.title('Gráfico de convergencia')  \n",
    "plt.xlabel('generación')  \n",
    "plt.ylabel('mejor aptitud')  \n",
    "plt.grid(True)\n",
    "plt.legend()\n",
    "\n",
    "plt.show()"
   ]
  },
  {
   "cell_type": "code",
   "execution_count": 23,
   "id": "2ba28dc2",
   "metadata": {},
   "outputs": [],
   "source": [
    "df_resultados.to_csv('algbinario_2_ejecuciones.csv', index=False)"
   ]
  },
  {
   "cell_type": "code",
   "execution_count": null,
   "id": "06932d2e",
   "metadata": {},
   "outputs": [],
   "source": []
  }
 ],
 "metadata": {
  "kernelspec": {
   "display_name": "Python 3 (ipykernel)",
   "language": "python",
   "name": "python3"
  },
  "language_info": {
   "codemirror_mode": {
    "name": "ipython",
    "version": 3
   },
   "file_extension": ".py",
   "mimetype": "text/x-python",
   "name": "python",
   "nbconvert_exporter": "python",
   "pygments_lexer": "ipython3",
   "version": "3.9.13"
  }
 },
 "nbformat": 4,
 "nbformat_minor": 5
}
