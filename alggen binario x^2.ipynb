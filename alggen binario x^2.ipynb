{
 "cells": [
  {
   "cell_type": "code",
   "execution_count": 1,
   "id": "796d6544",
   "metadata": {},
   "outputs": [],
   "source": [
    "import numpy as np\n",
    "import matplotlib.pyplot as plt\n",
    "import math\n",
    "import random\n",
    "import time"
   ]
  },
  {
   "cell_type": "code",
   "execution_count": 2,
   "id": "07661959",
   "metadata": {},
   "outputs": [],
   "source": [
    "xmin = -10\n",
    "xmax = 10\n",
    "dim = 10\n",
    "pres = 3\n",
    "longitud = int(math.log2( (xmax-xmin)*(10**pres) )+0.9)\n",
    "prob_mut = 0.09\n",
    "pobsize = 100\n",
    "num_padres = 100\n",
    "num_generaciones = 1000\n",
    "dim_disc = dim * longitud"
   ]
  },
  {
   "cell_type": "code",
   "execution_count": 3,
   "id": "cedd708a",
   "metadata": {},
   "outputs": [
    {
     "data": {
      "text/plain": [
       "15"
      ]
     },
     "execution_count": 3,
     "metadata": {},
     "output_type": "execute_result"
    }
   ],
   "source": [
    "longitud"
   ]
  },
  {
   "cell_type": "code",
   "execution_count": 4,
   "id": "a894ccc2",
   "metadata": {},
   "outputs": [],
   "source": [
    "def bin2dec(bin_str):\n",
    "    return int(''.join(str(x) for x in bin_str), 2)"
   ]
  },
  {
   "cell_type": "code",
   "execution_count": 5,
   "id": "2b1debc4",
   "metadata": {},
   "outputs": [],
   "source": [
    "def vbin2vdec(vbin, bits_per_var=longitud, num_vars=dim, vmin=xmin, vmax=xmax):\n",
    "    vdec = []\n",
    "    max_dec = 2**bits_per_var - 1\n",
    "    for i in range(num_vars):\n",
    "        bin_segment = vbin[i*bits_per_var:(i+1)*bits_per_var]\n",
    "        dec = bin2dec(bin_segment)\n",
    "        scaled_val = vmin + ((vmax - vmin) / max_dec) * dec\n",
    "        vdec.append(scaled_val)\n",
    "    return vdec"
   ]
  },
  {
   "cell_type": "code",
   "execution_count": 6,
   "id": "67a55ece",
   "metadata": {},
   "outputs": [],
   "source": [
    "def aptitud(vbin):\n",
    "    vdec = vbin2vdec(vbin)\n",
    "    return np.sum(np.square(vdec)) \n",
    "\n",
    "\n",
    "def evaluar_aptitud(individuos):\n",
    "    return [aptitud(ind) for ind in individuos]"
   ]
  },
  {
   "cell_type": "code",
   "execution_count": 7,
   "id": "6a85c870",
   "metadata": {},
   "outputs": [],
   "source": [
    "def generate_pob(pobsize):\n",
    "    pob = []\n",
    "    for i in range(pobsize):        \n",
    "        vector = np.random.randint(0, 2, size=dim_disc)\n",
    "        pob.append(vector)\n",
    "    return pob"
   ]
  },
  {
   "cell_type": "code",
   "execution_count": 8,
   "id": "2a14c21c",
   "metadata": {},
   "outputs": [],
   "source": [
    "def crossover_uniforme(v1, v2):\n",
    "    mascara = np.random.randint(0, 2, size=len(v1)).astype(bool)\n",
    "    inversa_mascara = np.logical_not(mascara)\n",
    "    h1 = np.where(mascara, v1, v2)\n",
    "    h2 = np.where(mascara, v2, v1)\n",
    "    return h1, h2"
   ]
  },
  {
   "cell_type": "code",
   "execution_count": 9,
   "id": "ca2158a6",
   "metadata": {},
   "outputs": [],
   "source": [
    "def mutacion_uniforme_binaria(vector, prob_mut):\n",
    "    mascara = np.random.random(size=len(vector)) < prob_mut\n",
    "    vector[mascara] = 1 - vector[mascara]    \n",
    "    return vector"
   ]
  },
  {
   "cell_type": "markdown",
   "id": "23f664c6",
   "metadata": {},
   "source": [
    "* Calcula la aptitud total de la población para determinar el tamaño de los \"segmentos\" de la ruleta para cada individuo.\n",
    "* Establece un punto de inicio aleatorio y un intervalo constante (punto de ruleta) para realizar la selección.\n",
    "* Recorre la población, acumulando la aptitud y seleccionando individuos cuando la aptitud acumulada supera los puntos establecidos por el intervalo."
   ]
  },
  {
   "cell_type": "code",
   "execution_count": 10,
   "id": "99c75735",
   "metadata": {},
   "outputs": [],
   "source": [
    "def seleccion_universal_estocastica(individuos, num_padres):\n",
    "    n = len(individuos)\n",
    "    aptitudes = evaluar_aptitud(individuos)\n",
    "    aptitudes_invertidas = [1.0 / max(aptitud, 1e-8) for aptitud in aptitudes]  \n",
    "    total_aptitud = sum(aptitudes_invertidas)\n",
    "    intervalo = total_aptitud / num_padres\n",
    "    inicio = random.uniform(0, intervalo)\n",
    "    puntos = [inicio + i * intervalo for i in range(num_padres)]\n",
    "    \n",
    "    aptitudes_acumulativas = []\n",
    "    suma_acumulada = 0\n",
    "    for aptitud in aptitudes_invertidas:\n",
    "        suma_acumulada += aptitud\n",
    "        aptitudes_acumulativas.append(suma_acumulada)\n",
    "    \n",
    "    seleccionados = []\n",
    "    for punto in puntos:\n",
    "        for i, aptitud_acum in enumerate(aptitudes_acumulativas):\n",
    "            if aptitud_acum >= punto:\n",
    "                seleccionados.append(individuos[i])\n",
    "                break\n",
    "    \n",
    "    return seleccionados"
   ]
  },
  {
   "cell_type": "code",
   "execution_count": 11,
   "id": "7d78ad03",
   "metadata": {},
   "outputs": [],
   "source": [
    "def algoritmo_genetico(pobsize, num_generaciones, prob_mut, num_padres):\n",
    "    # Paso 1: Inicialización\n",
    "    best = []\n",
    "    poblacion = generate_pob(pobsize)\n",
    "    \n",
    "    for generacion in range(num_generaciones):\n",
    "        # Paso 2: Selección\n",
    "        seleccionados = seleccion_universal_estocastica(poblacion, num_padres)\n",
    "        \n",
    "        # Paso 3: Cruzamiento\n",
    "        nueva_poblacion = []\n",
    "        for i in range(0, len(seleccionados), 2):\n",
    "            padre1 = seleccionados[i]\n",
    "            padre2 = seleccionados[i+1] if i+1 < len(seleccionados) else seleccionados[0]\n",
    "            hijo1, hijo2 = crossover_uniforme(padre1, padre2)\n",
    "            nueva_poblacion.extend([hijo1, hijo2])\n",
    "        \n",
    "        # Paso 4: Mutación\n",
    "        poblacion_mutada = [mutacion_uniforme_binaria(ind, prob_mut) for ind in nueva_poblacion]\n",
    "        \n",
    "        # Paso 5: Evaluación y Reemplazo por los Mejores\n",
    "        poblacion.extend(poblacion_mutada)\n",
    "        poblacion.sort(key=lambda ind: aptitud(ind))\n",
    "        poblacion = poblacion[:pobsize]  # Conserva solo los mejores de tamaño pobsize\n",
    "        \n",
    "        # Imprimir el mejor individuo\n",
    "        mejor_individuo = poblacion[0]\n",
    "        #print(f\" Generación {generacion}: Mejor  Aptitud: {aptitud(mejor_individuo)}\")\n",
    "        best.append(aptitud(mejor_individuo))\n",
    "    \n",
    "\n",
    "    return poblacion, best\n"
   ]
  },
  {
   "cell_type": "code",
   "execution_count": null,
   "id": "b4953061",
   "metadata": {},
   "outputs": [],
   "source": []
  },
  {
   "cell_type": "code",
   "execution_count": 12,
   "id": "6ae5dc50",
   "metadata": {},
   "outputs": [
    {
     "name": "stdout",
     "output_type": "stream",
     "text": [
      "Se terminó de agregar la ejecucción [0]\n",
      "Se terminó de agregar la ejecucción [1]\n",
      "Se terminó de agregar la ejecucción [2]\n",
      "Se terminó de agregar la ejecucción [3]\n",
      "Se terminó de agregar la ejecucción [4]\n",
      "Se terminó de agregar la ejecucción [5]\n",
      "Se terminó de agregar la ejecucción [6]\n",
      "Se terminó de agregar la ejecucción [7]\n",
      "Se terminó de agregar la ejecucción [8]\n",
      "Se terminó de agregar la ejecucción [9]\n",
      "Se terminó de agregar la ejecucción [10]\n",
      "Se terminó de agregar la ejecucción [11]\n",
      "Se terminó de agregar la ejecucción [12]\n",
      "Se terminó de agregar la ejecucción [13]\n",
      "Se terminó de agregar la ejecucción [14]\n",
      "Se terminó de agregar la ejecucción [15]\n",
      "Se terminó de agregar la ejecucción [16]\n",
      "Se terminó de agregar la ejecucción [17]\n",
      "Se terminó de agregar la ejecucción [18]\n",
      "Se terminó de agregar la ejecucción [19]\n",
      "Se terminó de agregar la ejecucción [20]\n",
      "Se terminó de agregar la ejecucción [21]\n",
      "Se terminó de agregar la ejecucción [22]\n",
      "Se terminó de agregar la ejecucción [23]\n",
      "Se terminó de agregar la ejecucción [24]\n",
      "Se terminó de agregar la ejecucción [25]\n",
      "Se terminó de agregar la ejecucción [26]\n",
      "Se terminó de agregar la ejecucción [27]\n",
      "Se terminó de agregar la ejecucción [28]\n",
      "Se terminó de agregar la ejecucción [29]\n"
     ]
    }
   ],
   "source": [
    "x=[]\n",
    "for i in range(30):\n",
    "    x.append(algoritmo_genetico(pobsize, num_generaciones, prob_mut, num_padres))\n",
    "    print(f\"Se terminó de agregar la ejecucción [{i}]\")"
   ]
  },
  {
   "cell_type": "code",
   "execution_count": 13,
   "id": "2816bd8a",
   "metadata": {},
   "outputs": [],
   "source": [
    "vectores_reales = []\n",
    "mejores_aptitudes = []\n",
    "for i in range(30):\n",
    "    vectores_reales.append(vbin2vdec(x[i][0][0]))\n",
    "    mejores_aptitudes.append(aptitud(x[i][0][0]))"
   ]
  },
  {
   "cell_type": "code",
   "execution_count": 14,
   "id": "96a14ec8",
   "metadata": {},
   "outputs": [],
   "source": [
    "import pandas as pd"
   ]
  },
  {
   "cell_type": "code",
   "execution_count": 15,
   "id": "4bf89e8c",
   "metadata": {},
   "outputs": [],
   "source": [
    "df = pd.DataFrame(vectores_reales)\n",
    "df['mejores_aptitudes'] = mejores_aptitudes\n",
    "\n",
    "# Exportar el DataFrame a un archivo CSV\n",
    "df.to_csv('algbinario_1_ejecuciones.csv', index=False)\n",
    "df = df.sort_values(by='mejores_aptitudes')"
   ]
  },
  {
   "cell_type": "code",
   "execution_count": 49,
   "id": "f1115844",
   "metadata": {},
   "outputs": [],
   "source": [
    "df.to_csv('binario_1_ejecuciones.csv', index=True, index_label='mi_indice')"
   ]
  },
  {
   "cell_type": "code",
   "execution_count": 17,
   "id": "81e7b0e6",
   "metadata": {},
   "outputs": [],
   "source": [
    "graficas = {}\n",
    "for i in range(30):\n",
    "    graficas[i] = x[i][1]"
   ]
  },
  {
   "cell_type": "code",
   "execution_count": 18,
   "id": "266a81ec",
   "metadata": {},
   "outputs": [
    {
     "data": {
      "image/png": "[encoded data removed]",
      "text/plain": [
       "<Figure size 720x360 with 1 Axes>"
      ]
     },
     "metadata": {
      "needs_background": "light"
     },
     "output_type": "display_data"
    }
   ],
   "source": [
    "plt.figure(figsize=(10, 5))  # Crea una figura con un tamaño específico\n",
    "plt.plot(graficas[1],  linestyle='-', color='b')\n",
    "plt.title('Gráfico de convergencia')  \n",
    "plt.xlabel('generación')  \n",
    "plt.ylabel('mejor aptitud')  \n",
    "plt.grid(True)\n",
    "\n",
    "plt.show()"
   ]
  },
  {
   "cell_type": "code",
   "execution_count": 42,
   "id": "478eeb38",
   "metadata": {},
   "outputs": [],
   "source": [
    "import csv\n",
    "\n",
    "# Inicializa una lista vacía para almacenar los datos\n",
    "mediana_undx = []\n",
    "\n",
    "# Abre el archivo CSV\n",
    "with open('mediana_undx_1.csv', newline='', encoding='utf-8') as csvfile:\n",
    "    # Crea un lector de CSV\n",
    "    csvreader = csv.reader(csvfile)\n",
    "    \n",
    "    # Itera sobre las filas en el archivo CSV\n",
    "    for row in csvreader:\n",
    "        # Convierte cada fila en una lista de enteros\n",
    "        mediana_undx.append([(item) for item in row])\n",
    "\n",
    "mediana_undx = mediana_undx[0]\n",
    "mediana_undx = [float(value) for value in mediana_undx]\n"
   ]
  },
  {
   "cell_type": "code",
   "execution_count": 47,
   "id": "3d35ec48",
   "metadata": {},
   "outputs": [
    {
     "data": {
      "image/png": "[encoded data removed]",
      "text/plain": [
       "<Figure size 720x360 with 1 Axes>"
      ]
     },
     "metadata": {
      "needs_background": "light"
     },
     "output_type": "display_data"
    }
   ],
   "source": [
    "plt.figure(figsize=(10, 5))  # Crea una figura con un tamaño específico\n",
    "plt.plot(graficas[1],  linestyle='-', color='b', label = \"Representacion binaria\")\n",
    "plt.plot(mediana_undx,  linestyle='-', color='r', label = \"Representacion real\")\n",
    "plt.title('Gráfico de convergencia 1')  \n",
    "plt.xlabel('generación')  \n",
    "plt.ylabel('mejor aptitud')  \n",
    "plt.legend()\n",
    "plt.grid(True)\n",
    "\n",
    "plt.show()"
   ]
  },
  {
   "cell_type": "code",
   "execution_count": null,
   "id": "62cde2af",
   "metadata": {},
   "outputs": [],
   "source": []
  },
  {
   "cell_type": "code",
   "execution_count": null,
   "id": "7d75501a",
   "metadata": {},
   "outputs": [],
   "source": []
  },
  {
   "cell_type": "code",
   "execution_count": null,
   "id": "0ecbb3fe",
   "metadata": {},
   "outputs": [],
   "source": []
  },
  {
   "cell_type": "code",
   "execution_count": null,
   "id": "a855b8d7",
   "metadata": {},
   "outputs": [],
   "source": []
  }
 ],
 "metadata": {
  "kernelspec": {
   "display_name": "Python 3 (ipykernel)",
   "language": "python",
   "name": "python3"
  },
  "language_info": {
   "codemirror_mode": {
    "name": "ipython",
    "version": 3
   },
   "file_extension": ".py",
   "mimetype": "text/x-python",
   "name": "python",
   "nbconvert_exporter": "python",
   "pygments_lexer": "ipython3",
   "version": "3.9.13"
  }
 },
 "nbformat": 4,
 "nbformat_minor": 5
}
